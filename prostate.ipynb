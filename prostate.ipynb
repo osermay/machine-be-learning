{
 "cells": [
  {
   "cell_type": "markdown",
   "metadata": {},
   "source": [
    "# Project: Predicting Happiness of Songs\n",
    "By Kristin Moser and Shayaan Saiyed\n",
    "In this demo, we illustrate the classic technique of LASSO regularization for model selection.  You will learn to:\n",
    "* Fit a LASSO model using the `sklearn` package\n",
    "* Determine the regularization level with cross-validation\n",
    "* Draw the coefficient path as a function of the regularization level\n",
    "\n",
    "We use a classic prostate cancer dataset from the paper:\n",
    "\n",
    "> Stamey, Thomas A., et al. \"[Prostate specific antigen in the diagnosis and treatment of adenocarcinoma of the prostate. II. Radical prostatectomy treated patients](http://www.sciencedirect.com/science/article/pii/S002253471741175X).\" The Journal of urology 141.5 (1989): 1076-1083.\n",
    "\n",
    "In the study, the level of [prostate specific antigen](https://en.wikipedia.org/wiki/Prostate-specific_antigen) was measured in 102 men before they had a prostatectomy. Elevated values of the PSA are believed to be associated with the presence of prostate cancer and other disorders. To study this hypothesis, various features of the prostate were measured after the prostatectomy.  Data analysis is then used to understand the relation between the PSA level and prostate features.  The study is old and much more is known about PSA today.  But, the analysis is typical for medical problems and illustrates the basic tools well.\n",
    "\n",
    "The specific analysis presented in this demo taken from the class text: \n",
    "\n",
    "> Friedman, Jerome, Trevor Hastie, and Robert Tibshirani. [Elements of statistical learning](https://www.amazon.com/exec/obidos/ASIN/0387952845/trevorhastie-20), New York: Springer series in statistics, 2001.\n",
    "\n",
    "The text provides an excellent discussion of LASSO and other methods on this dataset.\n",
    "\n",
    "First, we load the regular packages."
   ]
  },
  {
   "cell_type": "markdown",
   "metadata": {},
   "source": [
    "## Getting the data"
   ]
  },
  {
   "cell_type": "code",
   "execution_count": 147,
   "metadata": {},
   "outputs": [
    {
     "name": "stdout",
     "output_type": "stream",
     "text": [
      "['37i9dQZF1DXcBWIGoYBM5M', '37i9dQZF1DX0XUsuxWHRQd', '37i9dQZF1DX4dyzvuaRJ0n', '37i9dQZF1DX4SBhb3fqCJd', '37i9dQZF1DXcF6B6QPhFDv', '37i9dQZF1DX1lVhptIYRda', '37i9dQZF1DX10zKzsJ2jva', '37i9dQZF1DX4JAvHpjipBk', '37i9dQZF1DX4E3UdUs7fUx', '37i9dQZF1DX4sWSpwq3LiO', '37i9dQZF1DWYV7OOaGhoH0', '5JdIoXkjfuyWmDdDnznmq1', '37i9dQZF1DX5PuwKY2VZBZ', '37i9dQZF1DXboGLA1CNczK', '37i9dQZF1DWXJfnUiYjUKT', '4HghCZXykAY0kdRqJipQJd', '1LYK2ahDnbLnS4fddCFY7z'] 1115\n"
     ]
    }
   ],
   "source": [
    "import numpy as np\n",
    "import matplotlib.pyplot as plt\n",
    "%matplotlib inline\n",
    "import spotipy\n",
    "from spotipy.oauth2 import SpotifyClientCredentials\n",
    "client_credentials_manager = SpotifyClientCredentials()\n",
    "sp = spotipy.Spotify(client_credentials_manager=client_credentials_manager)\n",
    "playlists = sp.user_playlists('spotify')\n",
    "data = []\n",
    "count = 0\n",
    "while playlists:\n",
    "    for i, playlist in enumerate(playlists['items']):\n",
    "        if count < 1100:\n",
    "            data.append(playlist['id'])\n",
    "            count += playlist['tracks']['total']\n",
    "        else:\n",
    "            break\n",
    "    if playlists['next'] and count < 1100:\n",
    "        playlists = sp.next(playlists)\n",
    "    else:\n",
    "        playlists = None\n",
    "print(data, count)\n",
    "trackIDs = []\n",
    "for playlistID in data:\n",
    "    tracks = sp.user_playlist_tracks('spotify',playlistID)\n",
    "    for i in tracks['items']:\n",
    "        if 'track' in i and i['track'] != None:\n",
    "            if 'id' in i['track']:\n",
    "                ID = i['track']['id']\n",
    "                trackIDs = trackIDs + [ID]"
   ]
  },
  {
   "cell_type": "code",
   "execution_count": 130,
   "metadata": {},
   "outputs": [
    {
     "name": "stdout",
     "output_type": "stream",
     "text": [
      "['danceability' 'energy' 'key' 'loudness' 'mode' 'speechiness'\n",
      " 'acousticness' 'instrumentalness' 'liveness' 'valence' 'tempo']\n"
     ]
    }
   ],
   "source": [
    "audio_features = sp.audio_features(trackIDs[1])\n",
    "feature_labels = list(audio_features[0].keys())[:11]\n",
    "x = np.array(feature_labels)\n",
    "print(x)"
   ]
  },
  {
   "cell_type": "code",
   "execution_count": 131,
   "metadata": {},
   "outputs": [
    {
     "name": "stdout",
     "output_type": "stream",
     "text": [
      "(994, 11)\n"
     ]
    }
   ],
   "source": [
    "for i in range(1, len(trackIDs), 50):\n",
    "    audio_features = sp.audio_features(trackIDs[i: i+50])\n",
    "    for tk in audio_features:\n",
    "        if tk != None:\n",
    "            features = np.array(list(tk.values())[:11])\n",
    "            x = np.vstack((x, features))\n",
    "print(x.shape)"
   ]
  },
  {
   "cell_type": "code",
   "execution_count": 200,
   "metadata": {},
   "outputs": [
    {
     "name": "stdout",
     "output_type": "stream",
     "text": [
      "X\n",
      " [[  5.89000000e-01   7.31000000e-01   2.00000000e+00 ...,   0.00000000e+00\n",
      "    3.08000000e-01   8.79080000e+01]\n",
      " [  6.48000000e-01   6.08000000e-01   8.00000000e+00 ...,   0.00000000e+00\n",
      "    1.05000000e-01   1.26120000e+02]\n",
      " [  6.13000000e-01   8.42000000e-01   1.00000000e+01 ...,   0.00000000e+00\n",
      "    2.30000000e-01   1.69917000e+02]\n",
      " ..., \n",
      " [  5.53000000e-01   4.26000000e-01   1.10000000e+01 ...,   1.47000000e-05\n",
      "    1.08000000e-01   1.06021000e+02]\n",
      " [  4.49000000e-01   1.25000000e-01   1.00000000e+01 ...,   1.08000000e-05\n",
      "    1.07000000e-01   1.27699000e+02]\n",
      " [  2.30000000e-01   9.69000000e-02   0.00000000e+00 ...,   7.60000000e-01\n",
      "    1.06000000e-01   1.34774000e+02]] \n",
      "y\n",
      " [ 0.191   0.488   0.645   0.216   0.264   0.434   0.154   0.33    0.333\n",
      "  0.411   0.356   0.305   0.62    0.405   0.77    0.308   0.13    0.42\n",
      "  0.819   0.244   0.607   0.182   0.656   0.349   0.579   0.183   0.779\n",
      "  0.227   0.321   0.141   0.506   0.699   0.261   0.286   0.534   0.649\n",
      "  0.574   0.332   0.238   0.287   0.662   0.627   0.0967  0.676   0.217\n",
      "  0.552   0.765   0.145   0.491   0.383   0.287   0.574   0.333   0.196\n",
      "  0.105   0.594   0.243   0.24    0.147   0.756   0.649   0.675   0.429\n",
      "  0.509   0.377   0.595   0.605   0.53    0.476   0.226   0.581   0.569\n",
      "  0.405   0.631   0.168   0.129   0.804   0.151   0.698   0.52    0.407\n",
      "  0.322   0.368   0.517   0.783   0.219   0.337   0.661   0.193   0.766\n",
      "  0.329   0.451   0.453   0.107   0.728   0.847   0.23    0.246   0.859\n",
      "  0.64    0.242   0.13    0.511   0.279   0.592   0.334   0.582   0.74\n",
      "  0.85    0.801   0.63    0.27    0.245   0.281   0.581   0.261   0.453\n",
      "  0.492   0.506   0.864   0.612   0.0796  0.198   0.22    0.415   0.503\n",
      "  0.674   0.466   0.179   0.486   0.286   0.596   0.198   0.738   0.286\n",
      "  0.489   0.271   0.33    0.553   0.451   0.761   0.517   0.597   0.488\n",
      "  0.704   0.0921  0.683   0.674   0.538   0.809   0.277   0.301   0.278\n",
      "  0.649   0.198   0.101   0.126   0.0385  0.637   0.225   0.545   0.596\n",
      "  0.565   0.379   0.129   0.387   0.372   0.713   0.811   0.502   0.161\n",
      "  0.0628  0.588   0.121   0.651   0.436   0.578   0.821   0.409   0.288\n",
      "  0.558   0.168   0.411   0.442   0.523   0.182   0.431   0.345   0.62\n",
      "  0.329   0.367   0.429   0.195   0.635   0.545   0.258   0.905   0.392\n",
      "  0.513   0.34    0.672   0.343   0.368   0.444   0.629   0.39    0.61\n",
      "  0.254   0.608   0.505   0.395   0.541   0.829   0.378   0.533   0.508\n",
      "  0.359   0.649   0.498   0.88    0.579   0.829   0.539   0.2     0.457\n",
      "  0.771   0.433   0.239   0.809   0.38    0.688   0.397   0.104   0.235\n",
      "  0.242   0.805   0.361   0.523   0.37    0.299   0.584   0.35    0.743\n",
      "  0.473   0.74    0.529   0.657   0.324   0.673   0.316   0.738   0.386\n",
      "  0.738   0.489   0.842   0.569   0.77    0.342   0.38    0.484   0.695\n",
      "  0.7     0.883   0.51    0.559   0.511   0.734   0.671   0.537   0.525\n",
      "  0.632   0.236   0.493   0.664   0.687   0.473   0.649   0.393   0.244\n",
      "  0.537   0.345   0.438   0.593   0.502   0.437   0.476   0.23    0.499\n",
      "  0.625   0.552   0.678   0.866   0.637   0.773   0.759   0.651   0.631\n",
      "  0.611   0.493   0.763   0.521   0.578   0.579   0.559   0.457   0.825\n",
      "  0.849   0.3     0.75    0.864   0.797   0.871   0.237   0.693   0.676\n",
      "  0.649   0.765   0.822   0.839   0.349   0.619   0.893   0.71    0.841\n",
      "  0.206   0.737   0.689   0.749   0.447   0.287   0.754   0.678   0.411\n",
      "  0.624   0.884   0.805   0.64    0.86    0.746   0.433   0.491   0.731\n",
      "  0.786   0.664   0.795   0.697   0.756   0.577   0.803   0.434   0.496\n",
      "  0.399   0.763   0.736   0.52    0.549   0.496   0.844   0.768   0.732\n",
      "  0.874   0.811   0.339   0.23    0.503   0.714   0.594   0.123   0.344\n",
      "  0.597   0.667   0.557   0.793   0.386   0.554   0.211   0.672   0.12\n",
      "  0.207   0.347   0.28    0.0716  0.378   0.217   0.476   0.717   0.551\n",
      "  0.581   0.43    0.518   0.909   0.533   0.376   0.433   0.536   0.451\n",
      "  0.468   0.241   0.538   0.193   0.505   0.132   0.229   0.262   0.101\n",
      "  0.448   0.322   0.542   0.45    0.774   0.223   0.215   0.602   0.761\n",
      "  0.64    0.63    0.263   0.253   0.385   0.575   0.647   0.366   0.19\n",
      "  0.408   0.642   0.191   0.417   0.239   0.317   0.188   0.352   0.44\n",
      "  0.226   0.242   0.443   0.328   0.283   0.309   0.234   0.19    0.245\n",
      "  0.225   0.341   0.663   0.173   0.401   0.319   0.229   0.34    0.214\n",
      "  0.349   0.553   0.207   0.28    0.685   0.316   0.435   0.384   0.228\n",
      "  0.288   0.621   0.261   0.566   0.132   0.418   0.345   0.267   0.145\n",
      "  0.526   0.154   0.285   0.533   0.231   0.314   0.274   0.461   0.381\n",
      "  0.14    0.42    0.117   0.487   0.385   0.272   0.272   0.354   0.494\n",
      "  0.0351  0.135   0.391   0.353   0.282   0.389   0.349   0.117   0.268\n",
      "  0.206   0.308   0.293   0.377   0.457   0.496   0.128   0.421   0.176\n",
      "  0.31    0.328   0.23    0.135   0.18    0.0629  0.284   0.292   0.0397\n",
      "  0.0765  0.192   0.153   0.35    0.127   0.178   0.18    0.22    0.111\n",
      "  0.0773  0.283   0.0781  0.133   0.309   0.195   0.197   0.144   0.0366\n",
      "  0.219   0.0794  0.111   0.159   0.219   0.069   0.452   0.351   0.116\n",
      "  0.0761  0.263   0.341   0.221   0.113   0.117   0.205   0.12    0.2\n",
      "  0.104   0.104   0.0691  0.154   0.161   0.157   0.0782  0.0429  0.288\n",
      "  0.132   0.0706  0.118   0.0753  0.247   0.199   0.0511  0.288   0.154\n",
      "  0.224   0.0394  0.0675  0.358   0.0627  0.224   0.182   0.27    0.235\n",
      "  0.133   0.0394  0.0499  0.344   0.214   0.124   0.253   0.51    0.352\n",
      "  0.132   0.349   0.115   0.174   0.374   0.0727  0.0583  0.0384  0.868\n",
      "  0.0569  0.036   0.179   0.0559  0.0829  0.0707  0.104   0.0394  0.0873\n",
      "  0.0514  0.167   0.0807  0.068   0.242   0.606   0.313   0.366   0.105\n",
      "  0.479   0.243   0.423   0.275   0.51    0.361   0.341   0.282   0.206\n",
      "  0.159   0.195   0.427   0.236   0.164   0.452   0.173   0.103   0.53\n",
      "  0.274   0.0351  0.288   0.714   0.369   0.249   0.526   0.538   0.191\n",
      "  0.259   0.595   0.239   0.46    0.501   0.135   0.214   0.724   0.258\n",
      "  0.335   0.132   0.232   0.344   0.206   0.845   0.31    0.411   0.246\n",
      "  0.326   0.422   0.191   0.568   0.56    0.283   0.251   0.349   0.546\n",
      "  0.107   0.383   0.268   0.357   0.515   0.372   0.0384  0.174   0.555\n",
      "  0.268   0.459   0.166   0.206   0.61    0.181   0.516   0.664   0.217\n",
      "  0.178   0.0948  0.183   0.664   0.189   0.301   0.586   0.149   0.626\n",
      "  0.569   0.496   0.0399  0.229   0.503   0.543   0.0585  0.16    0.147\n",
      "  0.208   0.295   0.189   0.375   0.24    0.7     0.756   0.649   0.538\n",
      "  0.868   0.194   0.694   0.94    0.772   0.558   0.444   0.159   0.54\n",
      "  0.77    0.209   0.261   0.367   0.549   0.608   0.938   0.226   0.792\n",
      "  0.24    0.643   0.242   0.432   0.528   0.935   0.408   0.742   0.236\n",
      "  0.294   0.501   0.552   0.637   0.674   0.597   0.451   0.31    0.289\n",
      "  0.157   0.182   0.402   0.856   0.609   0.941   0.491   0.338   0.157\n",
      "  0.205   0.614   0.632   0.714   0.466   0.506   0.852   0.743   0.794\n",
      "  0.711   0.297   0.25    0.283   0.575   0.29    0.529   0.513   0.828\n",
      "  0.102   0.47    0.571   0.649   0.515   0.675   0.826   0.438   0.193\n",
      "  0.881   0.369   0.222   0.227   0.224   0.458   0.569   0.407   0.577\n",
      "  0.614   0.486   0.418   0.402   0.749   0.588   0.313   0.309   0.401\n",
      "  0.41    0.661   0.131   0.656   0.198   0.187   0.657   0.59    0.827\n",
      "  0.329   0.497   0.752   0.827   0.0377  0.473   0.0384  0.108   0.579\n",
      "  0.166   0.229   0.136   0.153   0.449   0.243   0.492   0.363   0.838\n",
      "  0.315   0.2     0.233   0.552   0.18    0.177   0.206   0.571   0.553\n",
      "  0.233   0.206   0.628   0.316   0.223   0.353   0.536   0.425   0.125\n",
      "  0.512   0.555   0.495   0.458   0.484   0.784   0.54    0.187   0.327\n",
      "  0.411   0.463   0.227   0.609   0.464   0.889   0.834   0.605   0.339\n",
      "  0.288   0.319   0.782   0.563   0.108   0.211   0.378   0.198   0.639\n",
      "  0.123   0.811   0.576   0.207   0.481   0.43    0.433   0.717   0.667\n",
      "  0.217   0.909   0.625   0.386   0.344   0.602   0.793   0.217   0.578\n",
      "  0.538   0.761   0.447   0.625   0.64    0.495   0.798   0.134   0.575\n",
      "  0.569   0.184   0.219   0.487   0.4     0.75    0.312   0.193   0.215\n",
      "  0.203   0.374   0.12    0.385   0.712   0.469   0.104   0.333   0.808\n",
      "  0.66    0.715   0.702   0.74    0.403   0.474   0.53    0.869   0.384\n",
      "  0.7     0.799   0.678   0.913   0.518   0.659   0.795   0.653   0.753\n",
      "  0.577   0.237   0.365   0.444   0.393   0.443   0.247   0.762   0.785\n",
      "  0.347   0.199   0.764   0.886   0.645   0.246   0.187   0.655   0.515\n",
      "  0.693   0.704   0.489   0.218   0.452   0.524   0.587   0.552   0.708\n",
      "  0.554   0.175   0.484   0.843   0.475   0.2     0.304   0.705   0.628\n",
      "  0.889   0.711   0.529   0.508   0.595   0.328   0.251   0.115   0.403\n",
      "  0.19    0.9     0.549   0.4     0.417   0.29    0.213   0.0532  0.239\n",
      "  0.864   0.219   0.129 ]\n"
     ]
    }
   ],
   "source": [
    "X = np.column_stack((x[1:,0:9], x[1:,10])).astype(np.float)\n",
    "y = x[1:,9].astype(np.float)\n",
    "print ('X\\n', X, '\\ny\\n', y)"
   ]
  },
  {
   "cell_type": "markdown",
   "metadata": {},
   "source": [
    "## Visualizing correlation\n",
    "\n",
    "First, we wanted to see if these features were somehow correlated to happiness. "
   ]
  },
  {
   "cell_type": "markdown",
   "metadata": {},
   "source": [
    "Plotting loudness vs. valence."
   ]
  },
  {
   "cell_type": "code",
   "execution_count": 201,
   "metadata": {},
   "outputs": [
    {
     "data": {
      "image/png": "[encoded data removed]",
      "text/plain": [
       "<matplotlib.figure.Figure at 0x10f7c3ef0>"
      ]
     },
     "metadata": {},
     "output_type": "display_data"
    }
   ],
   "source": [
    "plt.scatter(X[:, 3], y, color='purple')\n",
    "plt.xlabel('Loudness')\n",
    "plt.ylabel('Valence')\n",
    "plt.grid()\n",
    "plt.show()"
   ]
  },
  {
   "cell_type": "markdown",
   "metadata": {},
   "source": [
    "Plotting speechiness vs. valence"
   ]
  },
  {
   "cell_type": "code",
   "execution_count": 202,
   "metadata": {},
   "outputs": [
    {
     "data": {
      "image/png": "[encoded data removed]",
      "text/plain": [
       "<matplotlib.figure.Figure at 0x10c5b91d0>"
      ]
     },
     "metadata": {},
     "output_type": "display_data"
    }
   ],
   "source": [
    "plt.scatter(X[:, 5], y, color='green')\n",
    "plt.xlabel('Speechiness')\n",
    "plt.ylabel('Valence')\n",
    "plt.grid()\n",
    "plt.show()"
   ]
  },
  {
   "cell_type": "markdown",
   "metadata": {},
   "source": [
    "## Splitting the data into test and train"
   ]
  },
  {
   "cell_type": "code",
   "execution_count": 208,
   "metadata": {},
   "outputs": [
    {
     "name": "stdout",
     "output_type": "stream",
     "text": [
      "num samples train = 700, test = 293\n"
     ]
    }
   ],
   "source": [
    "ns_train = 700\n",
    "nsamples = X.shape[0]\n",
    "ns_test = nsamples - ns_train\n",
    "X_tr = X[:ns_train,:]     # Gets the first ns_train rows of X\n",
    "y_tr = y[:ns_train]       # Gets the correspoinding rows of y\n",
    "X_ts = X[ns_train:, :]\n",
    "y_ts = y[ns_train:]\n",
    "print(\"num samples train = %d, test = %d\" % (ns_train, ns_test))"
   ]
  },
  {
   "cell_type": "markdown",
   "metadata": {},
   "source": [
    "## Fitting a linear model"
   ]
  },
  {
   "cell_type": "code",
   "execution_count": 221,
   "metadata": {
    "collapsed": true
   },
   "outputs": [],
   "source": [
    "import  sklearn.model_selection \n",
    "from sklearn import datasets, linear_model, preprocessing"
   ]
  },
  {
   "cell_type": "code",
   "execution_count": 222,
   "metadata": {},
   "outputs": [
    {
     "data": {
      "text/plain": [
       "LinearRegression(copy_X=True, fit_intercept=True, n_jobs=1, normalize=False)"
      ]
     },
     "execution_count": 222,
     "metadata": {},
     "output_type": "execute_result"
    }
   ],
   "source": [
    "regr = sklearn.linear_model.LinearRegression()\n",
    "regr.fit(X_tr, y_tr)"
   ]
  },
  {
   "cell_type": "code",
   "execution_count": 223,
   "metadata": {},
   "outputs": [
    {
     "name": "stdout",
     "output_type": "stream",
     "text": [
      "0.701296726346\n",
      "0.298703273654\n"
     ]
    }
   ],
   "source": [
    "yts_hat = regr.predict(X_ts)\n",
    "RSS = np.mean(((yts_hat-y_ts)**2)/(np.std(y_ts)**2))\n",
    "print(RSS)\n",
    "print(regr.score(X_ts, y_ts))"
   ]
  },
  {
   "cell_type": "code",
   "execution_count": 225,
   "metadata": {},
   "outputs": [
    {
     "data": {
      "text/plain": [
       "<Container object of 3 artists>"
      ]
     },
     "execution_count": 225,
     "metadata": {},
     "output_type": "execute_result"
    },
    {
     "data": {
      "image/png": "[encoded data removed]",
      "text/plain": [
       "<matplotlib.figure.Figure at 0x10d2f2f60>"
      ]
     },
     "metadata": {},
     "output_type": "display_data"
    }
   ],
   "source": [
    "xm = np.mean(X_tr, axis=0)\n",
    "ym = np.mean(y_tr)\n",
    "X1 = X_tr-xm[None, :]\n",
    "y1 = y_tr-ym\n",
    "syy = np.mean(y1**2)\n",
    "sxy = np.mean(X1*y1[:, None], axis=0)\n",
    "sxx = np.mean(X1**2, axis=0)\n",
    "Rsq = sxy**2/(1e-8+sxx)/syy\n",
    "plt.stem(Rsq)"
   ]
  },
  {
   "cell_type": "code",
   "execution_count": 230,
   "metadata": {},
   "outputs": [
    {
     "name": "stdout",
     "output_type": "stream",
     "text": [
      "[1 0 3 6 7 5 9 4 8 2]\n",
      "10\n",
      "fold = 0 \n",
      "fold = 1 \n",
      "fold = 2 \n",
      "fold = 3 \n",
      "fold = 4 \n",
      "fold = 5 \n",
      "fold = 6 \n",
      "fold = 7 \n",
      "fold = 8 \n",
      "fold = 9 \n",
      "[[ 0.03857308  0.04640084  0.03368279  0.02997209  0.02482071  0.03329541\n",
      "   0.03798498  0.03507101  0.03894993  0.03730258]\n",
      " [ 0.03395149  0.04268511  0.02993741  0.028666    0.02243593  0.0286874\n",
      "   0.03228368  0.02867444  0.03268125  0.03038549]\n",
      " [ 0.033314    0.04151611  0.03044598  0.02760483  0.0231571   0.02717941\n",
      "   0.03230447  0.02896989  0.0325236   0.02972109]\n",
      " [ 0.032576    0.0418374   0.02914207  0.02596797  0.02234627  0.02710288\n",
      "   0.03205462  0.02822953  0.03153011  0.0304462 ]\n",
      " [ 0.03215111  0.04085406  0.0291732   0.02665843  0.02174127  0.02688173\n",
      "   0.0320902   0.02839391  0.03090873  0.03080937]\n",
      " [ 0.03197157  0.04064013  0.02922536  0.02712312  0.02230426  0.02674541\n",
      "   0.03204879  0.02828872  0.03121272  0.03060235]\n",
      " [ 0.03261131  0.04068635  0.02921619  0.02710978  0.02231401  0.02680219\n",
      "   0.032136    0.02828108  0.03119574  0.03063661]\n",
      " [ 0.03267896  0.04092334  0.02930711  0.0270736   0.02221176  0.02676883\n",
      "   0.0320804   0.02819609  0.03121588  0.03042692]\n",
      " [ 0.03182871  0.04053395  0.02927987  0.02774415  0.0226296   0.02639922\n",
      "   0.03201362  0.02778577  0.03116134  0.03016485]\n",
      " [ 0.03222104  0.04051012  0.02945308  0.02772063  0.02248653  0.0262383\n",
      "   0.03237939  0.0276428   0.03103771  0.02995483]]\n"
     ]
    }
   ],
   "source": [
    "I = np.argsort(Rsq)[::-1]\n",
    "print(I)\n",
    "\n",
    "#create a kfold object\n",
    "nfold = 10\n",
    "kf = sklearn.model_selection.KFold(n_splits=nfold,shuffle=True)\n",
    "\n",
    "# Model orders to be tested\n",
    "print (X.shape[1])\n",
    "dtest = np.arange(1,X.shape[1]+1) #test the highest d audio features\n",
    "nd = len(dtest)\n",
    "\n",
    "RSSts = np.zeros((nd,nfold)) #model orders x number of folds\n",
    "for isplit, Ind in enumerate(kf.split(X)):\n",
    "    \n",
    "    print (\"fold = %d \" % isplit)\n",
    "    \n",
    "    #Get the training data in the split\n",
    "    Itr, Its = Ind\n",
    "    for it, d in enumerate(dtest):\n",
    "        Isel = I[:d]\n",
    "        X1 = X[:, Isel]\n",
    "        X_tr = X1[Itr, :]\n",
    "        X_ts = X1[Its, :]\n",
    "        y_tr = y[Itr]\n",
    "        y_ts = y[Its]\n",
    "        regr.fit(X_tr, y_tr)\n",
    "        yhat = regr.predict(X_ts)\n",
    "        RSSts[it, isplit] = np.mean((yhat-y_ts)**2)\n",
    "print(RSSts)"
   ]
  },
  {
   "cell_type": "code",
   "execution_count": 232,
   "metadata": {},
   "outputs": [
    {
     "data": {
      "text/plain": [
       "<matplotlib.text.Text at 0x10fde6908>"
      ]
     },
     "execution_count": 232,
     "metadata": {},
     "output_type": "execute_result"
    },
    {
     "data": {
      "image/png": "[encoded data removed]",
      "text/plain": [
       "<matplotlib.figure.Figure at 0x10fae0be0>"
      ]
     },
     "metadata": {},
     "output_type": "display_data"
    }
   ],
   "source": [
    "RSS_mean = np.mean(RSSts, axis=1)\n",
    "RSS_std = np.std(RSSts, axis=1)/np.sqrt(nfold-1)\n",
    "\n",
    "plt.errorbar(dtest, RSS_mean, yerr=RSS_std)\n",
    "plt.grid()\n",
    "plt.xlabel('Model order of d')\n",
    "plt.ylabel('Test RSS')"
   ]
  },
  {
   "cell_type": "code",
   "execution_count": 234,
   "metadata": {},
   "outputs": [
    {
     "name": "stdout",
     "output_type": "stream",
     "text": [
      "The optimal d = 2\n",
      "Test RSS per sample = 0.031039\n"
     ]
    },
    {
     "data": {
      "text/plain": [
       "(0.02, 0.05)"
      ]
     },
     "execution_count": 234,
     "metadata": {},
     "output_type": "execute_result"
    },
    {
     "data": {
      "image/png": "[encoded data removed]",
      "text/plain": [
       "<matplotlib.figure.Figure at 0x10c8bac18>"
      ]
     },
     "metadata": {},
     "output_type": "display_data"
    }
   ],
   "source": [
    "imin = np.argmin(RSS_mean)\n",
    "dmin = dtest[imin]\n",
    "RSS_tgt = RSS_mean[imin] + RSS_std[imin]\n",
    "iopt = np.where(RSS_mean <= RSS_tgt)[0][0]\n",
    "dopt = dtest[iopt]\n",
    "\n",
    "print (\"The optimal d = %d\" % dopt)\n",
    "print(\"Test RSS per sample = %f\" % RSS_mean[iopt])\n",
    "\n",
    "RSS_min_plt = 0.02\n",
    "RSS_max_plt = 0.05\n",
    "plt.errorbar(dtest, RSS_mean, yerr=RSS_std)\n",
    "plt.plot([dmin, dmin], [RSS_min_plt, RSS_mean[imin]], 'rs--')\n",
    "plt.plot([dmin, dopt], [RSS_tgt, RSS_tgt], 'r--')\n",
    "plt.plot([dopt, dopt], [RSS_min_plt, RSS_mean[iopt]], 'ro--')\n",
    "plt.grid()\n",
    "plt.xlabel('Model order of d')\n",
    "plt.ylabel('Test RSS')\n",
    "plt.ylim([RSS_min_plt, RSS_max_plt])"
   ]
  },
  {
   "cell_type": "code",
   "execution_count": null,
   "metadata": {
    "collapsed": true
   },
   "outputs": [],
   "source": []
  }
 ],
 "metadata": {
  "anaconda-cloud": {},
  "kernelspec": {
   "display_name": "Python 3",
   "language": "python",
   "name": "python3"
  },
  "language_info": {
   "codemirror_mode": {
    "name": "ipython",
    "version": 3
   },
   "file_extension": ".py",
   "mimetype": "text/x-python",
   "name": "python",
   "nbconvert_exporter": "python",
   "pygments_lexer": "ipython3",
   "version": "3.6.1"
  }
 },
 "nbformat": 4,
 "nbformat_minor": 1
}
