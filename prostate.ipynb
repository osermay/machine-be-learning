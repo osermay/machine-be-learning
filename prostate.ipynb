{
 "cells": [
  {
   "cell_type": "markdown",
   "metadata": {},
   "source": [
    "# Project: Predicting Happiness of Songs\n",
    "By Kristin Moser and Shayaan Saiyed\n",
    "\n",
    "\n",
    "In this demo, we illustrate how to use Spotify API audio features data to determine the happiness of a song. The steps we took to do so:\n",
    "* Process API data to retrieve audio features for around 1000 songs\n",
    "* Perform multiple linear regression\n",
    "* Use K-fold cross validation to choose the best model\n",
    "\n",
    "We used Spotify's API as well as the Spotipy library:\n",
    "* [Spotify API](https://developer.spotify.com/web-api/)\n",
    "* [Spotipy](http://spotipy.readthedocs.io/en/latest/) \n",
    "\n",
    "We drew inspiration from several other projects that have been done.\n",
    "> This [project](https://github.com/juandes/spotify-audio-features-data-experiment) used Spotify track's audio features (like us) to determine whether or not a user's music taste was boring. This was interesting, however, a self-defined feature set. The creator decided what values of the audio features qualified it as boring. In this [article](https://towardsdatascience.com/is-my-spotify-music-boring-an-analysis-involving-music-data-and-machine-learning-47550ae931de) they wrote about their process.\n",
    "\n",
    ">This [project](https://devpost.com/software/partify-k94hpq) used Spotify track's audio features to reccommend songs to a ongoing party playlist. The user's favorited songs along with a selected mood fromt the user helps the app search for songs and creates a playlist from them. This application uses SVM to classify songs.\n",
    "\n",
    "First, we load the data and parse it."
   ]
  },
  {
   "cell_type": "markdown",
   "metadata": {},
   "source": [
    "## Getting the data\n",
    "\n",
    "Happiness in Spotify's audio features is called valence and can be a value 0-1. We will use other audio features of Spotify tracks in order to predict valence. These features include: danceability, energy, key, loudness, mode, speechiness, acousticness, instrumentalness, liveness, tempo. So essentially those features will be our Xs and valence will be our y."
   ]
  },
  {
   "cell_type": "code",
   "execution_count": 260,
   "metadata": {},
   "outputs": [],
   "source": [
    "import numpy as np\n",
    "import matplotlib.pyplot as plt\n",
    "%matplotlib inline\n",
    "import spotipy\n",
    "from spotipy.oauth2 import SpotifyClientCredentials"
   ]
  },
  {
   "cell_type": "markdown",
   "metadata": {},
   "source": [
    "To do craft the data we wanted we first grabbed Spotify's curated playlists till we had enough playlists whose track count was over 1100 gathered the playlist ids:"
   ]
  },
  {
   "cell_type": "code",
   "execution_count": 261,
   "metadata": {
    "collapsed": true
   },
   "outputs": [],
   "source": [
    "client_credentials_manager = SpotifyClientCredentials('6f613483241143f296a1e03996f8dae2', 'cd89960b4aaf4f07a749c8f93d3f61ed')\n",
    "sp = spotipy.Spotify(client_credentials_manager=client_credentials_manager)\n",
    "playlists = sp.user_playlists('spotify')\n",
    "playlist_data = [] # getting playlist ids\n",
    "count = 0 # count how many songs are added --> stop around 1000 \n",
    "while playlists:\n",
    "    for i, playlist in enumerate(playlists['items']):\n",
    "        if count < 1100:\n",
    "            playlist_data.append(playlist['id']) #append ids here\n",
    "            count += playlist['tracks']['total']\n",
    "        else:\n",
    "            break\n",
    "    if playlists['next'] and count < 1100:\n",
    "        playlists = sp.next(playlists)\n",
    "    else:\n",
    "        playlists = None"
   ]
  },
  {
   "cell_type": "markdown",
   "metadata": {},
   "source": [
    "Next we went through all the playlist ids and made a request for the actual tracks from those playlists:"
   ]
  },
  {
   "cell_type": "code",
   "execution_count": null,
   "metadata": {
    "collapsed": true
   },
   "outputs": [],
   "source": [
    "trackIDs = []\n",
    "for playlistID in playlist_data: #go through all playlist ids and get the tracks from the playlists\n",
    "    tracks = sp.user_playlist_tracks('spotify',playlistID)\n",
    "    for i in tracks['items']:\n",
    "        if 'track' in i and i['track'] != None:\n",
    "            if 'id' in i['track']:\n",
    "                ID = i['track']['id']\n",
    "                trackIDs = trackIDs + [ID]"
   ]
  },
  {
   "cell_type": "markdown",
   "metadata": {},
   "source": [
    "Then we got our column names:"
   ]
  },
  {
   "cell_type": "code",
   "execution_count": 263,
   "metadata": {},
   "outputs": [
    {
     "name": "stdout",
     "output_type": "stream",
     "text": [
      "features: ['danceability' 'energy' 'key' 'loudness' 'mode' 'speechiness'\n",
      " 'acousticness' 'instrumentalness' 'liveness' 'valence' 'tempo']\n"
     ]
    }
   ],
   "source": [
    "audio_features = sp.audio_features(trackIDs[1])\n",
    "feature_labels = list(audio_features[0].keys())[:11]\n",
    "x = np.array(feature_labels)\n",
    "print('features:', x)"
   ]
  },
  {
   "cell_type": "markdown",
   "metadata": {},
   "source": [
    "Finally we added all the tracks audio information into a matrix:"
   ]
  },
  {
   "cell_type": "code",
   "execution_count": 266,
   "metadata": {},
   "outputs": [
    {
     "name": "stdout",
     "output_type": "stream",
     "text": [
      "There are 2980 tracks with 11 audio features each track\n"
     ]
    }
   ],
   "source": [
    "for i in range(1, len(trackIDs), 50):\n",
    "    audio_features = sp.audio_features(trackIDs[i: i+50])\n",
    "    for tk in audio_features:\n",
    "        if tk != None:\n",
    "            features = np.array(list(tk.values())[:11])\n",
    "            x = np.vstack((x, features))\n",
    "print('There are ' + str(x.shape[0]) + ' tracks with ' + str(x.shape[1]) + ' audio features each track')"
   ]
  },
  {
   "cell_type": "code",
   "execution_count": 246,
   "metadata": {},
   "outputs": [
    {
     "name": "stdout",
     "output_type": "stream",
     "text": [
      "X\n",
      " [[  5.89000000e-01   7.31000000e-01   2.00000000e+00 ...,   0.00000000e+00\n",
      "    3.08000000e-01   8.79080000e+01]\n",
      " [  6.48000000e-01   6.08000000e-01   8.00000000e+00 ...,   0.00000000e+00\n",
      "    1.05000000e-01   1.26120000e+02]\n",
      " [  6.13000000e-01   8.42000000e-01   1.00000000e+01 ...,   0.00000000e+00\n",
      "    2.30000000e-01   1.69917000e+02]\n",
      " ..., \n",
      " [  5.53000000e-01   4.26000000e-01   1.10000000e+01 ...,   1.47000000e-05\n",
      "    1.08000000e-01   1.06021000e+02]\n",
      " [  4.49000000e-01   1.25000000e-01   1.00000000e+01 ...,   1.08000000e-05\n",
      "    1.07000000e-01   1.27699000e+02]\n",
      " [  2.30000000e-01   9.69000000e-02   0.00000000e+00 ...,   7.60000000e-01\n",
      "    1.06000000e-01   1.34774000e+02]] \n",
      "y\n",
      " [ 0.191   0.488   0.645   0.216   0.264   0.434   0.154   0.33    0.333\n",
      "  0.411   0.356   0.305   0.62    0.405   0.77    0.308   0.13    0.42\n",
      "  0.819   0.244   0.607   0.182   0.656   0.349   0.579   0.183   0.779\n",
      "  0.227   0.321   0.141   0.506   0.699   0.261   0.286   0.534   0.649\n",
      "  0.574   0.332   0.238   0.287   0.662   0.627   0.0967  0.676   0.217\n",
      "  0.552   0.765   0.145   0.491   0.383   0.287   0.574   0.333   0.196\n",
      "  0.105   0.594   0.243   0.24    0.147   0.756   0.649   0.675   0.429\n",
      "  0.509   0.377   0.595   0.605   0.53    0.476   0.226   0.581   0.569\n",
      "  0.405   0.631   0.168   0.129   0.804   0.151   0.698   0.52    0.407\n",
      "  0.322   0.368   0.517   0.783   0.219   0.337   0.661   0.193   0.766\n",
      "  0.329   0.451   0.453   0.107   0.728   0.847   0.23    0.246   0.859\n",
      "  0.581   0.64    0.242   0.63    0.33    0.13    0.511   0.74    0.759\n",
      "  0.838   0.279   0.334   0.582   0.198   0.0921  0.0385  0.637   0.761\n",
      "  0.27    0.245   0.281   0.592   0.261   0.453   0.492   0.506   0.612\n",
      "  0.545   0.0796  0.22    0.415   0.538   0.503   0.674   0.466   0.179\n",
      "  0.864   0.486   0.286   0.198   0.738   0.286   0.489   0.596   0.271\n",
      "  0.553   0.451   0.517   0.597   0.488   0.704   0.683   0.674   0.809\n",
      "  0.277   0.301   0.278   0.649   0.198   0.101   0.126   0.225   0.596\n",
      "  0.565   0.379   0.129   0.387   0.372   0.713   0.811   0.502   0.161\n",
      "  0.0628  0.588   0.121   0.651   0.436   0.578   0.821   0.409   0.288\n",
      "  0.558   0.168   0.411   0.442   0.523   0.182   0.431   0.345   0.62\n",
      "  0.329   0.367   0.429   0.195   0.635   0.545   0.258   0.905   0.392\n",
      "  0.513   0.34    0.672   0.343   0.368   0.444   0.629   0.39    0.61\n",
      "  0.254   0.608   0.505   0.395   0.541   0.829   0.378   0.533   0.508\n",
      "  0.359   0.649   0.498   0.88    0.579   0.829   0.539   0.2     0.457\n",
      "  0.771   0.433   0.239   0.809   0.38    0.688   0.397   0.104   0.235\n",
      "  0.242   0.805   0.361   0.523   0.37    0.299   0.584   0.35    0.743\n",
      "  0.473   0.74    0.529   0.657   0.324   0.673   0.316   0.738   0.386\n",
      "  0.738   0.489   0.842   0.569   0.77    0.342   0.38    0.484   0.695\n",
      "  0.7     0.883   0.51    0.559   0.511   0.734   0.671   0.537   0.525\n",
      "  0.632   0.236   0.493   0.664   0.687   0.473   0.649   0.393   0.244\n",
      "  0.537   0.345   0.438   0.593   0.502   0.437   0.476   0.23    0.499\n",
      "  0.625   0.552   0.678   0.866   0.637   0.773   0.759   0.651   0.631\n",
      "  0.611   0.493   0.763   0.521   0.578   0.579   0.559   0.457   0.825\n",
      "  0.849   0.3     0.75    0.864   0.797   0.237   0.693   0.676   0.871\n",
      "  0.649   0.765   0.822   0.839   0.349   0.619   0.893   0.71    0.841\n",
      "  0.206   0.737   0.689   0.749   0.447   0.287   0.754   0.678   0.411\n",
      "  0.624   0.884   0.805   0.64    0.86    0.746   0.433   0.491   0.731\n",
      "  0.786   0.664   0.795   0.697   0.756   0.577   0.803   0.434   0.496\n",
      "  0.399   0.763   0.736   0.52    0.549   0.496   0.844   0.768   0.732\n",
      "  0.874   0.811   0.339   0.23    0.503   0.714   0.594   0.123   0.344\n",
      "  0.597   0.667   0.557   0.793   0.386   0.554   0.211   0.672   0.12\n",
      "  0.207   0.347   0.28    0.0716  0.378   0.217   0.476   0.717   0.551\n",
      "  0.581   0.43    0.518   0.909   0.533   0.376   0.433   0.536   0.451\n",
      "  0.468   0.241   0.538   0.193   0.505   0.132   0.229   0.262   0.101\n",
      "  0.448   0.322   0.542   0.45    0.774   0.223   0.215   0.602   0.761\n",
      "  0.64    0.63    0.263   0.253   0.385   0.575   0.647   0.366   0.19\n",
      "  0.408   0.642   0.191   0.417   0.239   0.317   0.188   0.352   0.44\n",
      "  0.226   0.242   0.443   0.328   0.283   0.309   0.234   0.19    0.245\n",
      "  0.225   0.341   0.663   0.173   0.401   0.319   0.229   0.34    0.214\n",
      "  0.349   0.553   0.207   0.28    0.685   0.316   0.435   0.384   0.228\n",
      "  0.288   0.621   0.261   0.566   0.132   0.418   0.345   0.267   0.145\n",
      "  0.526   0.154   0.285   0.533   0.231   0.314   0.274   0.461   0.381\n",
      "  0.14    0.42    0.117   0.487   0.385   0.272   0.272   0.354   0.494\n",
      "  0.0351  0.135   0.391   0.353   0.282   0.389   0.349   0.117   0.268\n",
      "  0.206   0.308   0.293   0.377   0.457   0.496   0.128   0.421   0.176\n",
      "  0.31    0.328   0.23    0.135   0.18    0.0629  0.284   0.292   0.0397\n",
      "  0.0765  0.192   0.153   0.35    0.127   0.178   0.18    0.22    0.111\n",
      "  0.0773  0.283   0.0781  0.133   0.309   0.195   0.197   0.144   0.0366\n",
      "  0.219   0.0794  0.111   0.159   0.219   0.069   0.452   0.351   0.116\n",
      "  0.0761  0.263   0.341   0.221   0.113   0.117   0.205   0.12    0.2\n",
      "  0.104   0.104   0.0691  0.154   0.161   0.157   0.0782  0.0429  0.288\n",
      "  0.132   0.0706  0.118   0.0753  0.247   0.199   0.0511  0.288   0.154\n",
      "  0.224   0.0394  0.0675  0.358   0.0627  0.224   0.182   0.27    0.235\n",
      "  0.133   0.0394  0.0499  0.344   0.214   0.124   0.253   0.51    0.352\n",
      "  0.132   0.349   0.115   0.174   0.374   0.0727  0.0583  0.0384  0.868\n",
      "  0.0569  0.036   0.179   0.0559  0.0829  0.0707  0.104   0.0394  0.0873\n",
      "  0.0514  0.167   0.0807  0.068   0.242   0.606   0.313   0.366   0.105\n",
      "  0.479   0.243   0.423   0.275   0.51    0.361   0.341   0.282   0.206\n",
      "  0.159   0.195   0.427   0.236   0.164   0.452   0.173   0.103   0.53\n",
      "  0.274   0.0351  0.288   0.714   0.369   0.249   0.526   0.538   0.191\n",
      "  0.259   0.595   0.239   0.46    0.501   0.135   0.214   0.724   0.258\n",
      "  0.335   0.132   0.232   0.344   0.206   0.845   0.31    0.411   0.246\n",
      "  0.326   0.422   0.191   0.568   0.56    0.283   0.251   0.349   0.546\n",
      "  0.107   0.383   0.268   0.357   0.515   0.372   0.0384  0.174   0.555\n",
      "  0.268   0.459   0.166   0.206   0.61    0.181   0.516   0.664   0.217\n",
      "  0.178   0.0948  0.183   0.664   0.189   0.301   0.586   0.149   0.626\n",
      "  0.569   0.496   0.0399  0.229   0.503   0.543   0.0585  0.16    0.147\n",
      "  0.208   0.295   0.189   0.375   0.24    0.7     0.756   0.649   0.538\n",
      "  0.868   0.194   0.694   0.94    0.772   0.558   0.444   0.159   0.54\n",
      "  0.77    0.209   0.261   0.367   0.549   0.608   0.938   0.226   0.792\n",
      "  0.24    0.643   0.242   0.432   0.528   0.935   0.408   0.742   0.236\n",
      "  0.294   0.501   0.552   0.637   0.674   0.597   0.451   0.31    0.289\n",
      "  0.157   0.182   0.402   0.856   0.609   0.941   0.491   0.338   0.157\n",
      "  0.205   0.614   0.632   0.714   0.466   0.506   0.852   0.743   0.794\n",
      "  0.711   0.297   0.25    0.283   0.575   0.29    0.529   0.513   0.828\n",
      "  0.102   0.47    0.571   0.649   0.515   0.675   0.826   0.438   0.193\n",
      "  0.881   0.369   0.222   0.227   0.224   0.458   0.569   0.407   0.577\n",
      "  0.614   0.486   0.418   0.402   0.749   0.588   0.313   0.309   0.401\n",
      "  0.41    0.661   0.131   0.656   0.198   0.187   0.657   0.59    0.827\n",
      "  0.329   0.497   0.752   0.827   0.0377  0.473   0.0384  0.108   0.579\n",
      "  0.166   0.229   0.136   0.153   0.449   0.243   0.492   0.363   0.838\n",
      "  0.315   0.2     0.233   0.552   0.18    0.177   0.206   0.571   0.553\n",
      "  0.233   0.206   0.628   0.316   0.223   0.353   0.536   0.425   0.125\n",
      "  0.512   0.555   0.495   0.458   0.484   0.784   0.54    0.187   0.327\n",
      "  0.411   0.463   0.227   0.609   0.464   0.889   0.834   0.605   0.339\n",
      "  0.288   0.319   0.782   0.563   0.108   0.211   0.378   0.198   0.639\n",
      "  0.123   0.811   0.576   0.207   0.481   0.43    0.433   0.717   0.667\n",
      "  0.217   0.909   0.625   0.386   0.344   0.602   0.793   0.217   0.578\n",
      "  0.538   0.761   0.447   0.625   0.64    0.495   0.798   0.134   0.575\n",
      "  0.569   0.184   0.219   0.487   0.4     0.75    0.312   0.193   0.215\n",
      "  0.203   0.374   0.12    0.385   0.712   0.469   0.104   0.333   0.808\n",
      "  0.66    0.715   0.702   0.74    0.403   0.474   0.53    0.869   0.384\n",
      "  0.7     0.799   0.678   0.913   0.518   0.659   0.795   0.653   0.753\n",
      "  0.577   0.237   0.365   0.444   0.393   0.443   0.247   0.762   0.785\n",
      "  0.347   0.199   0.764   0.886   0.645   0.246   0.187   0.655   0.515\n",
      "  0.693   0.704   0.489   0.218   0.452   0.524   0.587   0.552   0.708\n",
      "  0.554   0.175   0.484   0.843   0.475   0.2     0.304   0.705   0.628\n",
      "  0.889   0.711   0.529   0.508   0.595   0.328   0.251   0.115   0.403\n",
      "  0.19    0.9     0.549   0.4     0.417   0.29    0.213   0.0532  0.239\n",
      "  0.864   0.219   0.129 ]\n"
     ]
    }
   ],
   "source": [
    "X = np.column_stack((x[1:,0:9], x[1:,10])).astype(np.float)\n",
    "y = x[1:,9].astype(np.float)\n",
    "print ('X\\n', X, '\\ny\\n', y)"
   ]
  },
  {
   "cell_type": "markdown",
   "metadata": {},
   "source": [
    "## Visualizing correlation\n",
    "\n",
    "First, we wanted to see if these features were somehow correlated to happiness. "
   ]
  },
  {
   "cell_type": "markdown",
   "metadata": {},
   "source": [
    "Plotting loudness vs. valence."
   ]
  },
  {
   "cell_type": "code",
   "execution_count": 247,
   "metadata": {},
   "outputs": [
    {
     "data": {
      "image/png": "[encoded data removed]",
      "text/plain": [
       "<matplotlib.figure.Figure at 0x10fea4da0>"
      ]
     },
     "metadata": {},
     "output_type": "display_data"
    }
   ],
   "source": [
    "plt.scatter(X[:, 3], y, color='purple')\n",
    "plt.xlabel('Loudness')\n",
    "plt.ylabel('Valence')\n",
    "plt.grid()\n",
    "plt.show()"
   ]
  },
  {
   "cell_type": "markdown",
   "metadata": {},
   "source": [
    "Plotting speechiness vs. valence"
   ]
  },
  {
   "cell_type": "code",
   "execution_count": 248,
   "metadata": {},
   "outputs": [
    {
     "data": {
      "image/png": "[encoded data removed]",
      "text/plain": [
       "<matplotlib.figure.Figure at 0x10df02240>"
      ]
     },
     "metadata": {},
     "output_type": "display_data"
    }
   ],
   "source": [
    "plt.scatter(X[:, 5], y, color='green')\n",
    "plt.xlabel('Speechiness')\n",
    "plt.ylabel('Valence')\n",
    "plt.grid()\n",
    "plt.show()"
   ]
  },
  {
   "cell_type": "markdown",
   "metadata": {},
   "source": [
    "## Splitting the data into test and train"
   ]
  },
  {
   "cell_type": "code",
   "execution_count": 249,
   "metadata": {},
   "outputs": [
    {
     "name": "stdout",
     "output_type": "stream",
     "text": [
      "num samples train = 700, test = 293\n"
     ]
    }
   ],
   "source": [
    "ns_train = 700\n",
    "nsamples = X.shape[0]\n",
    "ns_test = nsamples - ns_train\n",
    "X_tr = X[:ns_train,:]     # Gets the first ns_train rows of X\n",
    "y_tr = y[:ns_train]       # Gets the correspoinding rows of y\n",
    "X_ts = X[ns_train:, :]\n",
    "y_ts = y[ns_train:]\n",
    "print(\"num samples train = %d, test = %d\" % (ns_train, ns_test))"
   ]
  },
  {
   "cell_type": "markdown",
   "metadata": {},
   "source": [
    "## Fitting a linear model"
   ]
  },
  {
   "cell_type": "code",
   "execution_count": 250,
   "metadata": {
    "collapsed": true
   },
   "outputs": [],
   "source": [
    "import  sklearn.model_selection \n",
    "from sklearn import datasets, linear_model, preprocessing"
   ]
  },
  {
   "cell_type": "code",
   "execution_count": 251,
   "metadata": {},
   "outputs": [
    {
     "data": {
      "text/plain": [
       "LinearRegression(copy_X=True, fit_intercept=True, n_jobs=1, normalize=False)"
      ]
     },
     "execution_count": 251,
     "metadata": {},
     "output_type": "execute_result"
    }
   ],
   "source": [
    "regr = sklearn.linear_model.LinearRegression()\n",
    "regr.fit(X_tr, y_tr)"
   ]
  },
  {
   "cell_type": "code",
   "execution_count": 252,
   "metadata": {},
   "outputs": [
    {
     "name": "stdout",
     "output_type": "stream",
     "text": [
      "0.701795765696\n",
      "0.298204234304\n"
     ]
    }
   ],
   "source": [
    "yts_hat = regr.predict(X_ts)\n",
    "RSS = np.mean(((yts_hat-y_ts)**2)/(np.std(y_ts)**2))\n",
    "print(RSS)\n",
    "print(regr.score(X_ts, y_ts))"
   ]
  },
  {
   "cell_type": "code",
   "execution_count": 253,
   "metadata": {},
   "outputs": [
    {
     "data": {
      "text/plain": [
       "<Container object of 3 artists>"
      ]
     },
     "execution_count": 253,
     "metadata": {},
     "output_type": "execute_result"
    },
    {
     "data": {
      "image/png": "[encoded data removed]",
      "text/plain": [
       "<matplotlib.figure.Figure at 0x10d825e10>"
      ]
     },
     "metadata": {},
     "output_type": "display_data"
    }
   ],
   "source": [
    "xm = np.mean(X_tr, axis=0)\n",
    "ym = np.mean(y_tr)\n",
    "X1 = X_tr-xm[None, :]\n",
    "y1 = y_tr-ym\n",
    "syy = np.mean(y1**2)\n",
    "sxy = np.mean(X1*y1[:, None], axis=0)\n",
    "sxx = np.mean(X1**2, axis=0)\n",
    "Rsq = sxy**2/(1e-8+sxx)/syy\n",
    "plt.stem(Rsq)"
   ]
  },
  {
   "cell_type": "code",
   "execution_count": 254,
   "metadata": {},
   "outputs": [
    {
     "name": "stdout",
     "output_type": "stream",
     "text": [
      "[1 0 3 6 7 5 9 8 4 2]\n",
      "10\n",
      "fold = 0 \n",
      "fold = 1 \n",
      "fold = 2 \n",
      "fold = 3 \n",
      "fold = 4 \n",
      "fold = 5 \n",
      "fold = 6 \n",
      "fold = 7 \n",
      "fold = 8 \n",
      "fold = 9 \n",
      "[[ 0.03717161  0.03454322  0.03324735  0.03439558  0.03413169  0.04574727\n",
      "   0.03513038  0.02885322  0.03259434  0.04003787]\n",
      " [ 0.03024202  0.03587392  0.02987833  0.03238617  0.03347851  0.03783797\n",
      "   0.03034795  0.02357554  0.0235259   0.03298271]\n",
      " [ 0.02914369  0.03543867  0.02944924  0.0332968   0.03261901  0.03704117\n",
      "   0.02951574  0.02363319  0.02372068  0.03209604]\n",
      " [ 0.0273059   0.03450575  0.02847778  0.03305119  0.03200231  0.03669451\n",
      "   0.03052123  0.02333254  0.02368282  0.03088008]\n",
      " [ 0.02650469  0.03379444  0.02773309  0.03306253  0.03144347  0.0370362\n",
      "   0.02987651  0.02376785  0.02483533  0.0310224 ]\n",
      " [ 0.02649957  0.03353518  0.02758972  0.03279465  0.03128248  0.03725311\n",
      "   0.02999119  0.02390726  0.02490165  0.03144923]\n",
      " [ 0.02648781  0.03352029  0.02778191  0.03283663  0.0312822   0.03786519\n",
      "   0.03002653  0.0239028   0.02498879  0.03144896]\n",
      " [ 0.02699637  0.03326557  0.02829962  0.03246541  0.03105724  0.03727649\n",
      "   0.02927318  0.02405326  0.02486733  0.03125802]\n",
      " [ 0.0269688   0.0335908   0.02818516  0.03251019  0.03120475  0.03722463\n",
      "   0.02909989  0.02414595  0.02469211  0.03149903]\n",
      " [ 0.0273824   0.03348067  0.02803137  0.03239709  0.03114689  0.03702479\n",
      "   0.02901853  0.02469857  0.02467247  0.031435  ]]\n"
     ]
    }
   ],
   "source": [
    "I = np.argsort(Rsq)[::-1]\n",
    "print(I)\n",
    "\n",
    "#create a kfold object\n",
    "nfold = 10\n",
    "kf = sklearn.model_selection.KFold(n_splits=nfold,shuffle=True)\n",
    "\n",
    "# Model orders to be tested\n",
    "print (X.shape[1])\n",
    "dtest = np.arange(1,X.shape[1]+1) #test the highest d audio features\n",
    "nd = len(dtest)\n",
    "\n",
    "RSSts = np.zeros((nd,nfold)) #model orders x number of folds\n",
    "for isplit, Ind in enumerate(kf.split(X)):\n",
    "    \n",
    "    print (\"fold = %d \" % isplit)\n",
    "    \n",
    "    #Get the training data in the split\n",
    "    Itr, Its = Ind\n",
    "    for it, d in enumerate(dtest):\n",
    "        Isel = I[:d]\n",
    "        X1 = X[:, Isel]\n",
    "        X_tr = X1[Itr, :]\n",
    "        X_ts = X1[Its, :]\n",
    "        y_tr = y[Itr]\n",
    "        y_ts = y[Its]\n",
    "        regr.fit(X_tr, y_tr)\n",
    "        yhat = regr.predict(X_ts)\n",
    "        RSSts[it, isplit] = np.mean((yhat-y_ts)**2)\n",
    "print(RSSts)"
   ]
  },
  {
   "cell_type": "code",
   "execution_count": 255,
   "metadata": {},
   "outputs": [
    {
     "data": {
      "text/plain": [
       "<matplotlib.text.Text at 0x10faffb00>"
      ]
     },
     "execution_count": 255,
     "metadata": {},
     "output_type": "execute_result"
    },
    {
     "data": {
      "image/png": "[encoded data removed]",
      "text/plain": [
       "<matplotlib.figure.Figure at 0x10ff62a20>"
      ]
     },
     "metadata": {},
     "output_type": "display_data"
    }
   ],
   "source": [
    "RSS_mean = np.mean(RSSts, axis=1)\n",
    "RSS_std = np.std(RSSts, axis=1)/np.sqrt(nfold-1)\n",
    "\n",
    "plt.errorbar(dtest, RSS_mean, yerr=RSS_std)\n",
    "plt.grid()\n",
    "plt.xlabel('Model order of d')\n",
    "plt.ylabel('Test RSS')"
   ]
  },
  {
   "cell_type": "code",
   "execution_count": 256,
   "metadata": {},
   "outputs": [
    {
     "name": "stdout",
     "output_type": "stream",
     "text": [
      "The optimal d = 2\n",
      "Test RSS per sample = 0.031013\n"
     ]
    },
    {
     "data": {
      "text/plain": [
       "(0.02, 0.05)"
      ]
     },
     "execution_count": 256,
     "metadata": {},
     "output_type": "execute_result"
    },
    {
     "data": {
      "image/png": "[encoded data removed]",
      "text/plain": [
       "<matplotlib.figure.Figure at 0x10fed1e80>"
      ]
     },
     "metadata": {},
     "output_type": "display_data"
    }
   ],
   "source": [
    "imin = np.argmin(RSS_mean)\n",
    "dmin = dtest[imin]\n",
    "RSS_tgt = RSS_mean[imin] + RSS_std[imin]\n",
    "iopt = np.where(RSS_mean <= RSS_tgt)[0][0]\n",
    "dopt = dtest[iopt]\n",
    "\n",
    "print (\"The optimal d = %d\" % dopt)\n",
    "print(\"Test RSS per sample = %f\" % RSS_mean[iopt])\n",
    "\n",
    "RSS_min_plt = 0.02\n",
    "RSS_max_plt = 0.05\n",
    "plt.errorbar(dtest, RSS_mean, yerr=RSS_std)\n",
    "plt.plot([dmin, dmin], [RSS_min_plt, RSS_mean[imin]], 'rs--')\n",
    "plt.plot([dmin, dopt], [RSS_tgt, RSS_tgt], 'r--')\n",
    "plt.plot([dopt, dopt], [RSS_min_plt, RSS_mean[iopt]], 'ro--')\n",
    "plt.grid()\n",
    "plt.xlabel('Model order of d')\n",
    "plt.ylabel('Test RSS')\n",
    "plt.ylim([RSS_min_plt, RSS_max_plt])"
   ]
  },
  {
   "cell_type": "code",
   "execution_count": null,
   "metadata": {
    "collapsed": true
   },
   "outputs": [],
   "source": []
  }
 ],
 "metadata": {
  "anaconda-cloud": {},
  "kernelspec": {
   "display_name": "Python 3",
   "language": "python",
   "name": "python3"
  },
  "language_info": {
   "codemirror_mode": {
    "name": "ipython",
    "version": 3
   },
   "file_extension": ".py",
   "mimetype": "text/x-python",
   "name": "python",
   "nbconvert_exporter": "python",
   "pygments_lexer": "ipython3",
   "version": "3.6.1"
  }
 },
 "nbformat": 4,
 "nbformat_minor": 1
}
